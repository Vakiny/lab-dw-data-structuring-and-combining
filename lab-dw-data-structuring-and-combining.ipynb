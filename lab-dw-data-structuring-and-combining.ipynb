{
 "cells": [
  {
   "cell_type": "markdown",
   "id": "25d7736c-ba17-4aff-b6bb-66eba20fbf4e",
   "metadata": {
    "id": "25d7736c-ba17-4aff-b6bb-66eba20fbf4e"
   },
   "source": [
    "# Lab | Data Structuring and Combining Data"
   ]
  },
  {
   "cell_type": "markdown",
   "id": "a2cdfc70-44c8-478c-81e7-2bc43fdf4986",
   "metadata": {
    "id": "a2cdfc70-44c8-478c-81e7-2bc43fdf4986"
   },
   "source": [
    "## Challenge 1: Combining & Cleaning Data\n",
    "\n",
    "In this challenge, we will be working with the customer data from an insurance company, as we did in the two previous labs. The data can be found here:\n",
    "- https://raw.githubusercontent.com/data-bootcamp-v4/data/main/file1.csv\n",
    "\n",
    "But this time, we got new data, which can be found in the following 2 CSV files located at the links below.\n",
    "\n",
    "- https://raw.githubusercontent.com/data-bootcamp-v4/data/main/file2.csv\n",
    "- https://raw.githubusercontent.com/data-bootcamp-v4/data/main/file3.csv\n",
    "\n",
    "Note that you'll need to clean and format the new data.\n",
    "\n",
    "Observation:\n",
    "- One option is to first combine the three datasets and then apply the cleaning function to the new combined dataset\n",
    "- Another option would be to read the clean file you saved in the previous lab, and just clean the two new files and concatenate the three clean datasets"
   ]
  },
  {
   "cell_type": "code",
   "execution_count": 4,
   "id": "492d06e3-92c7-4105-ac72-536db98d3244",
   "metadata": {
    "id": "492d06e3-92c7-4105-ac72-536db98d3244"
   },
   "outputs": [],
   "source": [
    "# Your code goes here\n",
    "import pandas as pd\n",
    "url_file1 = \"https://raw.githubusercontent.com/data-bootcamp-v4/data/main/file1.csv\"\n",
    "url_file2 = \"https://raw.githubusercontent.com/data-bootcamp-v4/data/main/file2.csv\"\n",
    "url_file3 = \"https://raw.githubusercontent.com/data-bootcamp-v4/data/main/file3.csv\"\n",
    "\n",
    "df1 = pd.read_csv(url_file1)\n",
    "df2 = pd.read_csv(url_file2)\n",
    "df3 = pd.read_csv(url_file3)"
   ]
  },
  {
   "cell_type": "code",
   "execution_count": 8,
   "id": "dc6a8347-ae97-4c17-a145-9934ead934c2",
   "metadata": {},
   "outputs": [],
   "source": [
    "def clean_data(df):\n",
    "    # Standardize column names\n",
    "    df.columns = df.columns.str.strip().str.lower().str.replace(\" \", \"_\")\n",
    "    \n",
    "    # Drop duplicates\n",
    "    df = df.drop_duplicates()\n",
    "    \n",
    "    # Handle missing values, e.g., fill with placeholder or drop\n",
    "    df = df.fillna(\"Unknown\")  \n",
    "    \n",
    "    # Ensure consistency in specific columns (e.g., dates, numerical data)\n",
    "    if 'date' in df.columns:\n",
    "        df['date'] = pd.to_datetime(df['date'], errors='coerce')\n",
    "    if 'customer_lifetime_value' in df.columns:\n",
    "        df['customer_lifetime_value'] = pd.to_numeric(df['customer_lifetime_value'], errors='coerce')\n",
    "    \n",
    "    return df"
   ]
  },
  {
   "cell_type": "code",
   "execution_count": 12,
   "id": "7349137d-cdf5-4eb5-a941-869f9dcfea1a",
   "metadata": {},
   "outputs": [],
   "source": [
    "df1_clean = clean_data(df1)\n",
    "df2_clean = clean_data(df2)\n",
    "df3_clean = clean_data(df3)"
   ]
  },
  {
   "cell_type": "code",
   "execution_count": 14,
   "id": "745cae6f-4d46-4561-ab07-0a3181baf35a",
   "metadata": {},
   "outputs": [],
   "source": [
    "combined_df = pd.concat([df1_clean, df2_clean, df3_clean], ignore_index=True)"
   ]
  },
  {
   "cell_type": "code",
   "execution_count": 16,
   "id": "37d86b1f-d4c5-4624-987a-e1dc3a850019",
   "metadata": {},
   "outputs": [],
   "source": [
    "combined_df = clean_data(combined_df)"
   ]
  },
  {
   "cell_type": "code",
   "execution_count": 18,
   "id": "388c8e8e-2391-480a-84d9-a5170c95e885",
   "metadata": {},
   "outputs": [
    {
     "name": "stdout",
     "output_type": "stream",
     "text": [
      "  customer          st   gender             education  \\\n",
      "0  RB50392  Washington  Unknown                Master   \n",
      "1  QZ44356     Arizona        F              Bachelor   \n",
      "2  AI49188      Nevada        F              Bachelor   \n",
      "3  WW63253  California        M              Bachelor   \n",
      "4  GA49547  Washington        M  High School or Below   \n",
      "\n",
      "   customer_lifetime_value   income monthly_premium_auto  \\\n",
      "0                      NaN      0.0               1000.0   \n",
      "1                      NaN      0.0                 94.0   \n",
      "2                      NaN  48767.0                108.0   \n",
      "3                      NaN      0.0                106.0   \n",
      "4                      NaN  36357.0                 68.0   \n",
      "\n",
      "  number_of_open_complaints     policy_type  vehicle_class total_claim_amount  \\\n",
      "0                    1/0/00   Personal Auto  Four-Door Car           2.704934   \n",
      "1                    1/0/00   Personal Auto  Four-Door Car        1131.464935   \n",
      "2                    1/0/00   Personal Auto   Two-Door Car         566.472247   \n",
      "3                    1/0/00  Corporate Auto            SUV         529.881344   \n",
      "4                    1/0/00   Personal Auto  Four-Door Car          17.269323   \n",
      "\n",
      "     state  \n",
      "0  Unknown  \n",
      "1  Unknown  \n",
      "2  Unknown  \n",
      "3  Unknown  \n",
      "4  Unknown  \n",
      "<class 'pandas.core.frame.DataFrame'>\n",
      "Index: 9135 entries, 0 to 9137\n",
      "Data columns (total 12 columns):\n",
      " #   Column                     Non-Null Count  Dtype  \n",
      "---  ------                     --------------  -----  \n",
      " 0   customer                   9135 non-null   object \n",
      " 1   st                         9135 non-null   object \n",
      " 2   gender                     9135 non-null   object \n",
      " 3   education                  9135 non-null   object \n",
      " 4   customer_lifetime_value    7070 non-null   float64\n",
      " 5   income                     9135 non-null   object \n",
      " 6   monthly_premium_auto       9135 non-null   object \n",
      " 7   number_of_open_complaints  9135 non-null   object \n",
      " 8   policy_type                9135 non-null   object \n",
      " 9   vehicle_class              9135 non-null   object \n",
      " 10  total_claim_amount         9135 non-null   object \n",
      " 11  state                      9135 non-null   object \n",
      "dtypes: float64(1), object(11)\n",
      "memory usage: 927.8+ KB\n",
      "None\n"
     ]
    }
   ],
   "source": [
    "print(combined_df.head())\n",
    "print(combined_df.info())"
   ]
  },
  {
   "cell_type": "markdown",
   "id": "31b8a9e7-7db9-4604-991b-ef6771603e57",
   "metadata": {
    "id": "31b8a9e7-7db9-4604-991b-ef6771603e57"
   },
   "source": [
    "# Challenge 2: Structuring Data"
   ]
  },
  {
   "cell_type": "markdown",
   "id": "a877fd6d-7a0c-46d2-9657-f25036e4ca4b",
   "metadata": {
    "id": "a877fd6d-7a0c-46d2-9657-f25036e4ca4b"
   },
   "source": [
    "In this challenge, we will continue to work with customer data from an insurance company, but we will use a dataset with more columns, called marketing_customer_analysis.csv, which can be found at the following link:\n",
    "\n",
    "https://raw.githubusercontent.com/data-bootcamp-v4/data/main/marketing_customer_analysis_clean.csv\n",
    "\n",
    "This dataset contains information such as customer demographics, policy details, vehicle information, and the customer's response to the last marketing campaign. Our goal is to explore and analyze this data by performing data cleaning, formatting, and structuring."
   ]
  },
  {
   "cell_type": "code",
   "execution_count": 22,
   "id": "aa10d9b0-1c27-4d3f-a8e4-db6ab73bfd26",
   "metadata": {
    "id": "aa10d9b0-1c27-4d3f-a8e4-db6ab73bfd26"
   },
   "outputs": [
    {
     "name": "stdout",
     "output_type": "stream",
     "text": [
      "   unnamed:_0 customer       state  customer_lifetime_value response  \\\n",
      "0           0  DK49336     Arizona              4809.216960       No   \n",
      "1           1  KX64629  California              2228.525238       No   \n",
      "2           2  LZ68649  Washington             14947.917300       No   \n",
      "3           3  XL78013      Oregon             22332.439460      Yes   \n",
      "4           4  QA50777      Oregon              9025.067525       No   \n",
      "\n",
      "   coverage education effective_to_date employmentstatus gender  ...  \\\n",
      "0     Basic   College        2011-02-18         Employed      M  ...   \n",
      "1     Basic   College        2011-01-18       Unemployed      F  ...   \n",
      "2     Basic  Bachelor        2011-02-10         Employed      M  ...   \n",
      "3  Extended   College        2011-01-11         Employed      M  ...   \n",
      "4   Premium  Bachelor        2011-01-17    Medical Leave      F  ...   \n",
      "\n",
      "   number_of_policies     policy_type        policy  renew_offer_type  \\\n",
      "0                   9  Corporate Auto  Corporate L3            Offer3   \n",
      "1                   1   Personal Auto   Personal L3            Offer4   \n",
      "2                   2   Personal Auto   Personal L3            Offer3   \n",
      "3                   2  Corporate Auto  Corporate L3            Offer2   \n",
      "4                   7   Personal Auto   Personal L2            Offer1   \n",
      "\n",
      "   sales_channel  total_claim_amount  vehicle_class  vehicle_size  \\\n",
      "0          Agent          292.800000  Four-Door Car       Medsize   \n",
      "1    Call Center          744.924331  Four-Door Car       Medsize   \n",
      "2    Call Center          480.000000            SUV       Medsize   \n",
      "3         Branch          484.013411  Four-Door Car       Medsize   \n",
      "4         Branch          707.925645  Four-Door Car       Medsize   \n",
      "\n",
      "  vehicle_type month  \n",
      "0            A     2  \n",
      "1            A     1  \n",
      "2            A     2  \n",
      "3            A     1  \n",
      "4            A     1  \n",
      "\n",
      "[5 rows x 27 columns]\n"
     ]
    }
   ],
   "source": [
    "import pandas as pd\n",
    "\n",
    "# Load the dataset\n",
    "url = \"https://raw.githubusercontent.com/data-bootcamp-v4/data/main/marketing_customer_analysis_clean.csv\"\n",
    "df = pd.read_csv(url)\n",
    "\n",
    "# Preview the data to check relevant columns\n",
    "print(df.head())"
   ]
  },
  {
   "cell_type": "code",
   "execution_count": 24,
   "id": "bfe42bc3-2800-4d44-b749-586313ad838f",
   "metadata": {},
   "outputs": [],
   "source": [
    "# Create a pivot table for total revenue by sales channel\n",
    "# Assuming 'total_claim_amount' represents total revenue (as revenue column isn't specified)\n",
    "pivot_revenue_by_channel = df.pivot_table(\n",
    "    values='total_claim_amount', \n",
    "    index='sales_channel', \n",
    "    aggfunc='sum'\n",
    ").round(2)"
   ]
  },
  {
   "cell_type": "code",
   "execution_count": 26,
   "id": "b499964d-4644-4e57-ad82-4a1454bcdd3b",
   "metadata": {},
   "outputs": [
    {
     "name": "stdout",
     "output_type": "stream",
     "text": [
      "\n",
      "Sales channel with the highest revenue:\n",
      "               total_claim_amount\n",
      "sales_channel                    \n",
      "Agent                  1810226.82\n"
     ]
    }
   ],
   "source": [
    "#Analyze which channel brought in the most sales\n",
    "# Sort to identify the highest revenue channel\n",
    "highest_revenue_channel = pivot_revenue_by_channel.sort_values(by='total_claim_amount', ascending=False)\n",
    "print(\"\\nSales channel with the highest revenue:\")\n",
    "print(highest_revenue_channel.head(1))\n"
   ]
  },
  {
   "cell_type": "code",
   "execution_count": 28,
   "id": "eaef7991-f913-4959-928a-8bf5f49a10f7",
   "metadata": {},
   "outputs": [],
   "source": [
    "# Step 4: Create a pivot table for average customer lifetime value by gender and education level\n",
    "pivot_avg_clv = df.pivot_table(\n",
    "    values='customer_lifetime_value',\n",
    "    index='gender',\n",
    "    columns='education',\n",
    "    aggfunc='mean'\n",
    ").round(2)"
   ]
  },
  {
   "cell_type": "code",
   "execution_count": 30,
   "id": "36435a39-c41e-401a-8cbc-2d31390d2978",
   "metadata": {},
   "outputs": [
    {
     "name": "stdout",
     "output_type": "stream",
     "text": [
      "\n",
      "Average Customer Lifetime Value by Gender and Education Level:\n",
      "education  Bachelor  College   Doctor  High School or Below   Master\n",
      "gender                                                              \n",
      "F           7874.27  7748.82  7328.51               8675.22  8157.05\n",
      "M           7703.60  8052.46  7415.33               8149.69  8168.83\n"
     ]
    }
   ],
   "source": [
    "print(\"\\nAverage Customer Lifetime Value by Gender and Education Level:\")\n",
    "print(pivot_avg_clv)"
   ]
  },
  {
   "cell_type": "markdown",
   "id": "df35fd0d-513e-4e77-867e-429da10a9cc7",
   "metadata": {
    "id": "df35fd0d-513e-4e77-867e-429da10a9cc7"
   },
   "source": [
    "1. You work at the marketing department and you want to know which sales channel brought the most sales in terms of total revenue. Using pivot, create a summary table showing the total revenue for each sales channel (branch, call center, web, and mail).\n",
    "Round the total revenue to 2 decimal points.  Analyze the resulting table to draw insights."
   ]
  },
  {
   "cell_type": "markdown",
   "id": "640993b2-a291-436c-a34d-a551144f8196",
   "metadata": {
    "id": "640993b2-a291-436c-a34d-a551144f8196"
   },
   "source": [
    "2. Create a pivot table that shows the average customer lifetime value per gender and education level. Analyze the resulting table to draw insights."
   ]
  },
  {
   "cell_type": "markdown",
   "id": "32c7f2e5-3d90-43e5-be33-9781b6069198",
   "metadata": {
    "id": "32c7f2e5-3d90-43e5-be33-9781b6069198"
   },
   "source": [
    "## Bonus\n",
    "\n",
    "You work at the customer service department and you want to know which months had the highest number of complaints by policy type category. Create a summary table showing the number of complaints by policy type and month.\n",
    "Show it in a long format table."
   ]
  },
  {
   "cell_type": "markdown",
   "id": "e3d09a8f-953c-448a-a5f8-2e5a8cca7291",
   "metadata": {
    "id": "e3d09a8f-953c-448a-a5f8-2e5a8cca7291"
   },
   "source": [
    "*In data analysis, a long format table is a way of structuring data in which each observation or measurement is stored in a separate row of the table. The key characteristic of a long format table is that each column represents a single variable, and each row represents a single observation of that variable.*\n",
    "\n",
    "*More information about long and wide format tables here: https://www.statology.org/long-vs-wide-data/*"
   ]
  },
  {
   "cell_type": "code",
   "execution_count": null,
   "id": "3a069e0b-b400-470e-904d-d17582191be4",
   "metadata": {
    "id": "3a069e0b-b400-470e-904d-d17582191be4"
   },
   "outputs": [],
   "source": [
    "# Your code goes here"
   ]
  }
 ],
 "metadata": {
  "colab": {
   "provenance": []
  },
  "kernelspec": {
   "display_name": "Python 3 (ipykernel)",
   "language": "python",
   "name": "python3"
  },
  "language_info": {
   "codemirror_mode": {
    "name": "ipython",
    "version": 3
   },
   "file_extension": ".py",
   "mimetype": "text/x-python",
   "name": "python",
   "nbconvert_exporter": "python",
   "pygments_lexer": "ipython3",
   "version": "3.12.4"
  }
 },
 "nbformat": 4,
 "nbformat_minor": 5
}
